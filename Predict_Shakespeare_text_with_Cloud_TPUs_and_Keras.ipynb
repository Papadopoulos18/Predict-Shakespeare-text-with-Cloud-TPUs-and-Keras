{
  "nbformat": 4,
  "nbformat_minor": 0,
  "metadata": {
    "colab": {
      "name": "Predict Shakespeare text with Cloud TPUs and Keras.ipynb",
      "provenance": [],
      "collapsed_sections": [],
      "toc_visible": true,
      "authorship_tag": "ABX9TyM8uFMPLS8Fk5YogeipUSEY",
      "include_colab_link": true
    },
    "kernelspec": {
      "name": "python3",
      "display_name": "Python 3"
    },
    "accelerator": "TPU"
  },
  "cells": [
    {
      "cell_type": "markdown",
      "metadata": {
        "id": "view-in-github",
        "colab_type": "text"
      },
      "source": [
        "<a href=\"https://colab.research.google.com/github/Papadopoulos18/Predict-Shakespeare-text-with-Cloud-TPUs-and-Keras/blob/main/Predict_Shakespeare_text_with_Cloud_TPUs_and_Keras.ipynb\" target=\"_parent\"><img src=\"https://colab.research.google.com/assets/colab-badge.svg\" alt=\"Open In Colab\"/></a>"
      ]
    },
    {
      "cell_type": "markdown",
      "metadata": {
        "id": "ZDCW-mFZofBS"
      },
      "source": [
        "\r\n",
        "\r\n",
        "\r\n",
        "# **OVERVIEW**\r\n"
      ]
    },
    {
      "cell_type": "markdown",
      "metadata": {
        "id": "OiDOO6b4m9ks"
      },
      "source": [
        "\r\n",
        "This example uses [tf.keras](https://www.tensorflow.org/guide/keras) to build a *language model* and train it on a Cloud TPU. This language model predicts the next character of text given the text so far. The trained model can generate new snippets of text that read in a similar style to the text training data.\r\n",
        "\r\n",
        "The model trains for 10 epochs and completes in approximately 5 minutes.\r\n"
      ]
    },
    {
      "cell_type": "markdown",
      "metadata": {
        "id": "tfaObGXCo1-u"
      },
      "source": [
        "## Learning objectives\r\n",
        "\r\n",
        "In this Colab, you will learn how to:\r\n",
        "*   Build a two-layer, forward-LSTM model.\r\n",
        "*   Use distribution strategy to produce a `tf.keras` model that runs on TPU version and then use the standard Keras methods to train: `fit`, `predict`, and `evaluate`.\r\n",
        "*   Use the trained model to make predictions and generate your own Shakespeare-esque play.\r\n"
      ]
    },
    {
      "cell_type": "markdown",
      "metadata": {
        "id": "sGOMObi2pZgr"
      },
      "source": [
        "<h3>  &nbsp;&nbsp;Train on TPU&nbsp;&nbsp; <a href=\"https://cloud.google.com/tpu/\"><img valign=\"middle\" src=\"https://raw.githubusercontent.com/GoogleCloudPlatform/tensorflow-without-a-phd/master/tensorflow-rl-pong/images/tpu-hexagon.png\" width=\"50\"></a></h3>\r\n",
        "\r\n",
        "   1\r\n",
        "    On the main menu, click Runtime and select **Change runtime type**. Set \"TPU\" as the hardware accelerator.\r\n",
        " "
      ]
    },
    {
      "cell_type": "markdown",
      "metadata": {
        "id": "jTCNzy1cp8KK"
      },
      "source": [
        "TPUs are located in Google Cloud, for optimal performance, they read data directly from Google Cloud Storage (GCS)"
      ]
    },
    {
      "cell_type": "markdown",
      "metadata": {
        "id": "X8lOW6nvqCGo"
      },
      "source": [
        "### Data, model, and training"
      ]
    },
    {
      "cell_type": "markdown",
      "metadata": {
        "id": "jGvLmVrbo85B"
      },
      "source": [
        "In this example, you train the model on the combined works of William Shakespeare, then use the model to compose a play in the style of *The Great Bard*:\r\n",
        "\r\n",
        "<blockquote>\r\n",
        "Loves that led me no dumbs lack her Berjoy's face with her to-day.  \r\n",
        "The spirits roar'd; which shames which within his powers  \r\n",
        "\tWhich tied up remedies lending with occasion,  \r\n",
        "A loud and Lancaster, stabb'd in me  \r\n",
        "\tUpon my sword for ever: 'Agripo'er, his days let me free.  \r\n",
        "\tStop it of that word, be so: at Lear,  \r\n",
        "\tWhen I did profess the hour-stranger for my life,  \r\n",
        "\tWhen I did sink to be cried how for aught;  \r\n",
        "\tSome beds which seeks chaste senses prove burning;  \r\n",
        "But he perforces seen in her eyes so fast;  \r\n",
        "And _  \r\n",
        "</blockquote>\r\n"
      ]
    },
    {
      "cell_type": "markdown",
      "metadata": {
        "id": "MXL6aizyqMS5"
      },
      "source": [
        "###Download data\r\n",
        "\r\n",
        "Download *The Complete Works of William Shakespeare* as a single text file from [Project Gutenberg](https://www.gutenberg.org/). You use snippets from this file as the *training data* for the model. The *target* snippet is offset by one character."
      ]
    },
    {
      "cell_type": "code",
      "metadata": {
        "colab": {
          "base_uri": "https://localhost:8080/"
        },
        "id": "zPWWKjMco9Wm",
        "outputId": "bdbfe5f1-43a5-465f-a9b8-4991c7e23e82"
      },
      "source": [
        "!wget --show-progress --continue -O /content/shakespeare.txt http://www.gutenberg.org/files/100/100-0.txt"
      ],
      "execution_count": 1,
      "outputs": [
        {
          "output_type": "stream",
          "text": [
            "--2021-02-01 17:51:40--  http://www.gutenberg.org/files/100/100-0.txt\n",
            "Resolving www.gutenberg.org (www.gutenberg.org)... 152.19.134.47, 2610:28:3090:3000:0:bad:cafe:47\n",
            "Connecting to www.gutenberg.org (www.gutenberg.org)|152.19.134.47|:80... connected.\n",
            "HTTP request sent, awaiting response... 200 OK\n",
            "Length: 5757120 (5.5M) [text/plain]\n",
            "Saving to: ‘/content/shakespeare.txt’\n",
            "\n",
            "/content/shakespear 100%[===================>]   5.49M  5.02MB/s    in 1.1s    \n",
            "\n",
            "2021-02-01 17:51:42 (5.02 MB/s) - ‘/content/shakespeare.txt’ saved [5757120/5757120]\n",
            "\n"
          ],
          "name": "stdout"
        }
      ]
    },
    {
      "cell_type": "markdown",
      "metadata": {
        "id": "klXZ_THnq1VT"
      },
      "source": [
        "### Build the input dataset"
      ]
    },
    {
      "cell_type": "markdown",
      "metadata": {
        "id": "c-BuD56pq4nZ"
      },
      "source": [
        "We just downloaded some text. The following shows the start of the text and a random snippet so we can get a feel for the whole text."
      ]
    },
    {
      "cell_type": "code",
      "metadata": {
        "id": "HOT2_HZLq7Xs",
        "colab": {
          "base_uri": "https://localhost:8080/"
        },
        "outputId": "758e896d-c166-4a3c-fa02-1add6f2901d9"
      },
      "source": [
        "!head -n5 /content/shakespeare.txt\r\n",
        "!echo \"...\"\r\n",
        "!shuf -n5 /content/shakespeare.txt"
      ],
      "execution_count": 2,
      "outputs": [
        {
          "output_type": "stream",
          "text": [
            "﻿The Project Gutenberg eBook of The Complete Works of William Shakespeare, by William Shakespeare\r\n",
            "\r\n",
            "This eBook is for the use of anyone anywhere in the United States and\r\n",
            "most other parts of the world at no cost and with almost no restrictions\r\n",
            "whatsoever. You may copy it, give it away or re-use it under the terms\r\n",
            "...\n",
            "\n",
            "\n",
            "\n",
            "FALSTAFF.\n",
            "    doublet and hose ought to show itself courageous to petticoat;\n"
          ],
          "name": "stdout"
        }
      ]
    },
    {
      "cell_type": "code",
      "metadata": {
        "id": "j6dQH3J9tjVK"
      },
      "source": [
        "import numpy as np\r\n",
        "import tensorflow as tf\r\n",
        "import os\r\n",
        "\r\n",
        "import distutils\r\n",
        "if distutils.version.LooseVersion(tf.__version__) < '2.0':\r\n",
        "    raise Exception('This notebook is compatible with TensorFlow 2.0 or higher.')\r\n",
        "\r\n",
        "SHAKESPEARE_TXT = '/content/shakespeare.txt'\r\n",
        "\r\n",
        "def transform(txt):\r\n",
        "  return np.asarray([ord(c) for c in txt if ord(c) < 255], dtype=np.int32)\r\n",
        "\r\n",
        "def input_fn(seq_len=100, batch_size=1024):\r\n",
        "  \"\"\"Return a dataset of source and target sequences for training.\"\"\"\r\n",
        "  with tf.io.gfile.GFile(SHAKESPEARE_TXT, 'r') as f:\r\n",
        "    txt = f.read()\r\n",
        "\r\n",
        "  source = tf.constant(transform(txt), dtype=tf.int32)\r\n",
        "\r\n",
        "  ds = tf.data.Dataset.from_tensor_slices(source).batch(seq_len+1, drop_remainder=True)\r\n",
        "\r\n",
        "  def split_input_target(chunk):\r\n",
        "    input_text = chunk[:-1]\r\n",
        "    target_text = chunk[1:]\r\n",
        "    return input_text, target_text\r\n",
        "\r\n",
        "  BUFFER_SIZE = 10000\r\n",
        "  ds = ds.map(split_input_target).shuffle(BUFFER_SIZE).batch(batch_size, drop_remainder=True)\r\n",
        "\r\n",
        "  return ds.repeat()"
      ],
      "execution_count": 3,
      "outputs": []
    },
    {
      "cell_type": "markdown",
      "metadata": {
        "id": "FT7JMR_6tnpV"
      },
      "source": [
        "### Build the model\r\n",
        "\r\n",
        "The model is defined as a two-layer, forward-LSTM, the same model should work both on CPU and TPU.\r\n",
        "\r\n",
        "Because our vocabulary size is 256, the input dimension to the Embedding layer is 256.\r\n",
        "\r\n",
        "When specifying the arguments to the LSTM, it is important to note how the stateful argument is used. When training we will make sure that `stateful=False` because we do want to reset the state of our model between batches, but when sampling (computing predictions) from a trained model, we want `stateful=True` so that the model can retain information across the current batch and generate more interesting text."
      ]
    },
    {
      "cell_type": "code",
      "metadata": {
        "id": "ep8kj3Z7tof0"
      },
      "source": [
        "EMBEDDING_DIM = 512\r\n",
        "\r\n",
        "def lstm_model(seq_len=100, batch_size=None, stateful=True):\r\n",
        "  \"\"\"Language model: predict the next word given the current word.\"\"\"\r\n",
        "  source = tf.keras.Input(\r\n",
        "      name='seed', shape=(seq_len,), batch_size=batch_size, dtype=tf.int32)\r\n",
        "\r\n",
        "  embedding = tf.keras.layers.Embedding(input_dim=256, output_dim=EMBEDDING_DIM)(source)\r\n",
        "  lstm_1 = tf.keras.layers.LSTM(EMBEDDING_DIM, stateful=stateful, return_sequences=True)(embedding)\r\n",
        "  lstm_2 = tf.keras.layers.LSTM(EMBEDDING_DIM, stateful=stateful, return_sequences=True)(lstm_1)\r\n",
        "  predicted_char = tf.keras.layers.TimeDistributed(tf.keras.layers.Dense(256, activation='softmax'))(lstm_2)\r\n",
        "  return tf.keras.Model(inputs=[source], outputs=[predicted_char])"
      ],
      "execution_count": 4,
      "outputs": []
    },
    {
      "cell_type": "markdown",
      "metadata": {
        "id": "_SwNEGdOttg9"
      },
      "source": [
        "### Train the model\r\n",
        "\r\n",
        "First, we need to create a distribution strategy that can use the TPU. In this case it is TPUStrategy. You can create and compile the model inside its scope. Once that is done, future calls to the standard Keras methods `fit`, `evaluate` and `predict` use the TPU.\r\n",
        "\r\n",
        "Again note that we train with `stateful=False` because while training, we only care about one batch at a time."
      ]
    },
    {
      "cell_type": "code",
      "metadata": {
        "colab": {
          "base_uri": "https://localhost:8080/"
        },
        "id": "UBt4qhshtv7k",
        "outputId": "a51e7bf2-6d6e-41d1-e94e-cc0d9dbdd60e"
      },
      "source": [
        "tf.keras.backend.clear_session()\r\n",
        "\r\n",
        "resolver = tf.distribute.cluster_resolver.TPUClusterResolver(tpu='grpc://' + os.environ['COLAB_TPU_ADDR'])\r\n",
        "tf.config.experimental_connect_to_cluster(resolver)\r\n",
        "# This is the TPU initialization code that has to be at the beginning.\r\n",
        "tf.tpu.experimental.initialize_tpu_system(resolver)\r\n",
        "print(\"All devices: \", tf.config.list_logical_devices('TPU'))\r\n",
        "\r\n",
        "strategy = tf.distribute.experimental.TPUStrategy(resolver)\r\n",
        "\r\n",
        "with strategy.scope():\r\n",
        "  training_model = lstm_model(seq_len=100, stateful=False)\r\n",
        "  training_model.compile(\r\n",
        "      optimizer=tf.keras.optimizers.RMSprop(learning_rate=0.01),\r\n",
        "      loss='sparse_categorical_crossentropy',\r\n",
        "      metrics=['sparse_categorical_accuracy'])\r\n",
        "\r\n",
        "training_model.fit(\r\n",
        "    input_fn(),\r\n",
        "    steps_per_epoch=100,\r\n",
        "    epochs=10\r\n",
        ")\r\n",
        "training_model.save_weights('/tmp/bard.h5', overwrite=True)"
      ],
      "execution_count": 5,
      "outputs": [
        {
          "output_type": "stream",
          "text": [
            "INFO:tensorflow:Initializing the TPU system: grpc://10.25.109.10:8470\n"
          ],
          "name": "stdout"
        },
        {
          "output_type": "stream",
          "text": [
            "INFO:tensorflow:Initializing the TPU system: grpc://10.25.109.10:8470\n"
          ],
          "name": "stderr"
        },
        {
          "output_type": "stream",
          "text": [
            "INFO:tensorflow:Clearing out eager caches\n"
          ],
          "name": "stdout"
        },
        {
          "output_type": "stream",
          "text": [
            "INFO:tensorflow:Clearing out eager caches\n"
          ],
          "name": "stderr"
        },
        {
          "output_type": "stream",
          "text": [
            "INFO:tensorflow:Finished initializing TPU system.\n"
          ],
          "name": "stdout"
        },
        {
          "output_type": "stream",
          "text": [
            "INFO:tensorflow:Finished initializing TPU system.\n",
            "WARNING:absl:`tf.distribute.experimental.TPUStrategy` is deprecated, please use  the non experimental symbol `tf.distribute.TPUStrategy` instead.\n"
          ],
          "name": "stderr"
        },
        {
          "output_type": "stream",
          "text": [
            "All devices:  [LogicalDevice(name='/job:worker/replica:0/task:0/device:TPU:7', device_type='TPU'), LogicalDevice(name='/job:worker/replica:0/task:0/device:TPU:6', device_type='TPU'), LogicalDevice(name='/job:worker/replica:0/task:0/device:TPU:5', device_type='TPU'), LogicalDevice(name='/job:worker/replica:0/task:0/device:TPU:4', device_type='TPU'), LogicalDevice(name='/job:worker/replica:0/task:0/device:TPU:3', device_type='TPU'), LogicalDevice(name='/job:worker/replica:0/task:0/device:TPU:0', device_type='TPU'), LogicalDevice(name='/job:worker/replica:0/task:0/device:TPU:1', device_type='TPU'), LogicalDevice(name='/job:worker/replica:0/task:0/device:TPU:2', device_type='TPU')]\n",
            "INFO:tensorflow:Found TPU system:\n"
          ],
          "name": "stdout"
        },
        {
          "output_type": "stream",
          "text": [
            "INFO:tensorflow:Found TPU system:\n"
          ],
          "name": "stderr"
        },
        {
          "output_type": "stream",
          "text": [
            "INFO:tensorflow:*** Num TPU Cores: 8\n"
          ],
          "name": "stdout"
        },
        {
          "output_type": "stream",
          "text": [
            "INFO:tensorflow:*** Num TPU Cores: 8\n"
          ],
          "name": "stderr"
        },
        {
          "output_type": "stream",
          "text": [
            "INFO:tensorflow:*** Num TPU Workers: 1\n"
          ],
          "name": "stdout"
        },
        {
          "output_type": "stream",
          "text": [
            "INFO:tensorflow:*** Num TPU Workers: 1\n"
          ],
          "name": "stderr"
        },
        {
          "output_type": "stream",
          "text": [
            "INFO:tensorflow:*** Num TPU Cores Per Worker: 8\n"
          ],
          "name": "stdout"
        },
        {
          "output_type": "stream",
          "text": [
            "INFO:tensorflow:*** Num TPU Cores Per Worker: 8\n"
          ],
          "name": "stderr"
        },
        {
          "output_type": "stream",
          "text": [
            "INFO:tensorflow:*** Available Device: _DeviceAttributes(/job:localhost/replica:0/task:0/device:CPU:0, CPU, 0, 0)\n"
          ],
          "name": "stdout"
        },
        {
          "output_type": "stream",
          "text": [
            "INFO:tensorflow:*** Available Device: _DeviceAttributes(/job:localhost/replica:0/task:0/device:CPU:0, CPU, 0, 0)\n"
          ],
          "name": "stderr"
        },
        {
          "output_type": "stream",
          "text": [
            "INFO:tensorflow:*** Available Device: _DeviceAttributes(/job:worker/replica:0/task:0/device:CPU:0, CPU, 0, 0)\n"
          ],
          "name": "stdout"
        },
        {
          "output_type": "stream",
          "text": [
            "INFO:tensorflow:*** Available Device: _DeviceAttributes(/job:worker/replica:0/task:0/device:CPU:0, CPU, 0, 0)\n"
          ],
          "name": "stderr"
        },
        {
          "output_type": "stream",
          "text": [
            "INFO:tensorflow:*** Available Device: _DeviceAttributes(/job:worker/replica:0/task:0/device:TPU:0, TPU, 0, 0)\n"
          ],
          "name": "stdout"
        },
        {
          "output_type": "stream",
          "text": [
            "INFO:tensorflow:*** Available Device: _DeviceAttributes(/job:worker/replica:0/task:0/device:TPU:0, TPU, 0, 0)\n"
          ],
          "name": "stderr"
        },
        {
          "output_type": "stream",
          "text": [
            "INFO:tensorflow:*** Available Device: _DeviceAttributes(/job:worker/replica:0/task:0/device:TPU:1, TPU, 0, 0)\n"
          ],
          "name": "stdout"
        },
        {
          "output_type": "stream",
          "text": [
            "INFO:tensorflow:*** Available Device: _DeviceAttributes(/job:worker/replica:0/task:0/device:TPU:1, TPU, 0, 0)\n"
          ],
          "name": "stderr"
        },
        {
          "output_type": "stream",
          "text": [
            "INFO:tensorflow:*** Available Device: _DeviceAttributes(/job:worker/replica:0/task:0/device:TPU:2, TPU, 0, 0)\n"
          ],
          "name": "stdout"
        },
        {
          "output_type": "stream",
          "text": [
            "INFO:tensorflow:*** Available Device: _DeviceAttributes(/job:worker/replica:0/task:0/device:TPU:2, TPU, 0, 0)\n"
          ],
          "name": "stderr"
        },
        {
          "output_type": "stream",
          "text": [
            "INFO:tensorflow:*** Available Device: _DeviceAttributes(/job:worker/replica:0/task:0/device:TPU:3, TPU, 0, 0)\n"
          ],
          "name": "stdout"
        },
        {
          "output_type": "stream",
          "text": [
            "INFO:tensorflow:*** Available Device: _DeviceAttributes(/job:worker/replica:0/task:0/device:TPU:3, TPU, 0, 0)\n"
          ],
          "name": "stderr"
        },
        {
          "output_type": "stream",
          "text": [
            "INFO:tensorflow:*** Available Device: _DeviceAttributes(/job:worker/replica:0/task:0/device:TPU:4, TPU, 0, 0)\n"
          ],
          "name": "stdout"
        },
        {
          "output_type": "stream",
          "text": [
            "INFO:tensorflow:*** Available Device: _DeviceAttributes(/job:worker/replica:0/task:0/device:TPU:4, TPU, 0, 0)\n"
          ],
          "name": "stderr"
        },
        {
          "output_type": "stream",
          "text": [
            "INFO:tensorflow:*** Available Device: _DeviceAttributes(/job:worker/replica:0/task:0/device:TPU:5, TPU, 0, 0)\n"
          ],
          "name": "stdout"
        },
        {
          "output_type": "stream",
          "text": [
            "INFO:tensorflow:*** Available Device: _DeviceAttributes(/job:worker/replica:0/task:0/device:TPU:5, TPU, 0, 0)\n"
          ],
          "name": "stderr"
        },
        {
          "output_type": "stream",
          "text": [
            "INFO:tensorflow:*** Available Device: _DeviceAttributes(/job:worker/replica:0/task:0/device:TPU:6, TPU, 0, 0)\n"
          ],
          "name": "stdout"
        },
        {
          "output_type": "stream",
          "text": [
            "INFO:tensorflow:*** Available Device: _DeviceAttributes(/job:worker/replica:0/task:0/device:TPU:6, TPU, 0, 0)\n"
          ],
          "name": "stderr"
        },
        {
          "output_type": "stream",
          "text": [
            "INFO:tensorflow:*** Available Device: _DeviceAttributes(/job:worker/replica:0/task:0/device:TPU:7, TPU, 0, 0)\n"
          ],
          "name": "stdout"
        },
        {
          "output_type": "stream",
          "text": [
            "INFO:tensorflow:*** Available Device: _DeviceAttributes(/job:worker/replica:0/task:0/device:TPU:7, TPU, 0, 0)\n"
          ],
          "name": "stderr"
        },
        {
          "output_type": "stream",
          "text": [
            "INFO:tensorflow:*** Available Device: _DeviceAttributes(/job:worker/replica:0/task:0/device:TPU_SYSTEM:0, TPU_SYSTEM, 0, 0)\n"
          ],
          "name": "stdout"
        },
        {
          "output_type": "stream",
          "text": [
            "INFO:tensorflow:*** Available Device: _DeviceAttributes(/job:worker/replica:0/task:0/device:TPU_SYSTEM:0, TPU_SYSTEM, 0, 0)\n"
          ],
          "name": "stderr"
        },
        {
          "output_type": "stream",
          "text": [
            "INFO:tensorflow:*** Available Device: _DeviceAttributes(/job:worker/replica:0/task:0/device:XLA_CPU:0, XLA_CPU, 0, 0)\n"
          ],
          "name": "stdout"
        },
        {
          "output_type": "stream",
          "text": [
            "INFO:tensorflow:*** Available Device: _DeviceAttributes(/job:worker/replica:0/task:0/device:XLA_CPU:0, XLA_CPU, 0, 0)\n"
          ],
          "name": "stderr"
        },
        {
          "output_type": "stream",
          "text": [
            "Epoch 1/10\n",
            "100/100 [==============================] - 13s 80ms/step - loss: 3.7558 - sparse_categorical_accuracy: 0.1335\n",
            "Epoch 2/10\n",
            "100/100 [==============================] - 9s 86ms/step - loss: 3.4016 - sparse_categorical_accuracy: 0.1578\n",
            "Epoch 3/10\n",
            "100/100 [==============================] - 8s 84ms/step - loss: 3.3700 - sparse_categorical_accuracy: 0.1670\n",
            "Epoch 4/10\n",
            "100/100 [==============================] - 9s 86ms/step - loss: 2.5151 - sparse_categorical_accuracy: 0.3019\n",
            "Epoch 5/10\n",
            "100/100 [==============================] - 9s 85ms/step - loss: 1.7471 - sparse_categorical_accuracy: 0.4827\n",
            "Epoch 6/10\n",
            "100/100 [==============================] - 8s 81ms/step - loss: 1.4550 - sparse_categorical_accuracy: 0.5603\n",
            "Epoch 7/10\n",
            "100/100 [==============================] - 9s 87ms/step - loss: 1.3536 - sparse_categorical_accuracy: 0.5845\n",
            "Epoch 8/10\n",
            "100/100 [==============================] - 8s 85ms/step - loss: 1.3039 - sparse_categorical_accuracy: 0.5966\n",
            "Epoch 9/10\n",
            "100/100 [==============================] - 8s 85ms/step - loss: 1.2598 - sparse_categorical_accuracy: 0.6080\n",
            "Epoch 10/10\n",
            "100/100 [==============================] - 9s 86ms/step - loss: 1.2295 - sparse_categorical_accuracy: 0.6160\n"
          ],
          "name": "stdout"
        }
      ]
    },
    {
      "cell_type": "markdown",
      "metadata": {
        "id": "40hOOmbtty5t"
      },
      "source": [
        "### Make predictions with the model\r\n",
        "\r\n",
        "Use the trained model to make predictions and generate your own Shakespeare-esque play.\r\n",
        "Start the model off with a *seed* sentence, then generate 250 characters from it. The model makes five predictions from the initial seed.\r\n",
        "\r\n",
        "The predictions are done on the CPU so the batch size (5) in this case does not have to be divisible by 8.\r\n",
        "\r\n",
        "Note that when we are doing predictions or, to be more precise, text generation, we set `stateful=True` so that the model's state is kept between batches. If stateful is false, the model state is reset between each batch, and the model will only be able to use the information from the current batch (a single character) to make a prediction.\r\n",
        "\r\n",
        "The output of the model is a set of probabilities for the next character (given the input so far). To build a paragraph, we predict one character at a time and sample a character (based on the probabilities provided by the model). For example, if the input character is \"o\" and the output probabilities are \"p\" (0.65), \"t\" (0.30), others characters (0.05), then we allow our model to generate text other than just \"Ophelia\" and \"Othello.\""
      ]
    },
    {
      "cell_type": "code",
      "metadata": {
        "colab": {
          "base_uri": "https://localhost:8080/"
        },
        "id": "ZMhY8mg2t1kW",
        "outputId": "131afd06-ef00-4820-b2c0-a02fb81367c4"
      },
      "source": [
        "BATCH_SIZE = 5\r\n",
        "PREDICT_LEN = 250\r\n",
        "\r\n",
        "# Keras requires the batch size be specified ahead of time for stateful models.\r\n",
        "# We use a sequence length of 1, as we will be feeding in one character at a \r\n",
        "# time and predicting the next character.\r\n",
        "prediction_model = lstm_model(seq_len=1, batch_size=BATCH_SIZE, stateful=True)\r\n",
        "prediction_model.load_weights('/tmp/bard.h5')\r\n",
        "\r\n",
        "# We seed the model with our initial string, copied BATCH_SIZE times\r\n",
        "\r\n",
        "seed_txt = 'Looks it not like the king?  Verily, we must go! '\r\n",
        "seed = transform(seed_txt)\r\n",
        "seed = np.repeat(np.expand_dims(seed, 0), BATCH_SIZE, axis=0)\r\n",
        "\r\n",
        "# First, run the seed forward to prime the state of the model.\r\n",
        "prediction_model.reset_states()\r\n",
        "for i in range(len(seed_txt) - 1):\r\n",
        "  prediction_model.predict(seed[:, i:i + 1])\r\n",
        "\r\n",
        "# Now we can accumulate predictions!\r\n",
        "predictions = [seed[:, -1:]]\r\n",
        "for i in range(PREDICT_LEN):\r\n",
        "  last_word = predictions[-1]\r\n",
        "  next_probits = prediction_model.predict(last_word)[:, 0, :]\r\n",
        "  \r\n",
        "  # sample from our output distribution\r\n",
        "  next_idx = [\r\n",
        "      np.random.choice(256, p=next_probits[i])\r\n",
        "      for i in range(BATCH_SIZE)\r\n",
        "  ]\r\n",
        "  predictions.append(np.asarray(next_idx, dtype=np.int32))\r\n",
        "  \r\n",
        "\r\n",
        "for i in range(BATCH_SIZE):\r\n",
        "  print('PREDICTION %d\\n\\n' % i)\r\n",
        "  p = [predictions[j][i] for j in range(PREDICT_LEN)]\r\n",
        "  generated = ''.join([chr(c) for c in p])  # Convert back to text\r\n",
        "  print(generated)\r\n",
        "  print()\r\n",
        "  assert len(generated) == PREDICT_LEN, 'Generated text too short'"
      ],
      "execution_count": 6,
      "outputs": [
        {
          "output_type": "stream",
          "text": [
            "PREDICTION 0\n",
            "\n",
            "\n",
            " Who\r\n",
            "    cuty; whex he shall but traged to me.\r\n",
            "  CELIA. By their worthy serv's, and sink,\r\n",
            "    And see were Trestrate sticks,\r\n",
            "    One to satisfaction 'Wind,\r\n",
            "    Gone,\r\n",
            "    Yet,' quoth he fellow, come your face,\r\n",
            "    When match'd Porates souls pie\n",
            "\n",
            "PREDICTION 1\n",
            "\n",
            "\n",
            " we is.\r\n",
            "    He hath my company note deep unproved but we die,\r\n",
            "    And wife to stern. What seemstanc'd that?\r\n",
            "  GLM. What mullen. The feel'st of this world.\r\n",
            "  MORTIMER. What, to the king? Patronagle is\r\n",
            "      with the counter- No, gates of the heav\n",
            "\n",
            "PREDICTION 2\n",
            "\n",
            "\n",
            " we must, therefore, heartiest beauty, his troubles.\r\n",
            "  OLIVER. Faith, the world!\r\n",
            "  SICINIUS. We had meant little full,\r\n",
            "    Dorne are your grace with town his treasures; and himself life to your old sincefort.\r\n",
            "  PRINCE. Amms he attenties race's co\n",
            "\n",
            "PREDICTION 3\n",
            "\n",
            "\n",
            " and they ours scorn.\r\n",
            "\r\n",
            "\r\n",
            "             85\r\n",
            "\r\n",
            "If he former of many-show that will you, sir,\r\n",
            "Play the mettle of gold and old,\r\n",
            "Whose enemy. Some men Marcus Henry,\r\n",
            "When you both.\r\n",
            "    [Piving._]\r\n",
            "\r\n",
            "         Ay, so the adopt and these boarth drawn\r\n",
            "  \n",
            "\n",
            "PREDICTION 4\n",
            "\n",
            "\n",
            " My heart\r\n",
            "    Thou my father; became we?\r\n",
            "  SOMERSET. Awain! mother into the King favour,\r\n",
            "    And tent, your policy. See, and when do promige daylight\r\n",
            "    That time has a credite night- breakless world,\r\n",
            "    Were scrap'd with the fears; I will to \n",
            "\n"
          ],
          "name": "stdout"
        }
      ]
    },
    {
      "cell_type": "code",
      "metadata": {
        "id": "d_tmGmzbu9uO"
      },
      "source": [
        ""
      ],
      "execution_count": null,
      "outputs": []
    }
  ]
}